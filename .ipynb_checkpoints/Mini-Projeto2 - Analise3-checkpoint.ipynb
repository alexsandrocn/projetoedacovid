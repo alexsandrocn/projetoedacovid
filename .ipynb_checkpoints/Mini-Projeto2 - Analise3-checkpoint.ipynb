{
 "cells": [
  {
   "cell_type": "markdown",
   "metadata": {
    "collapsed": true
   },
   "source": [
    "# <font color='blue'>Data Science Academy - Python Fundamentos - Capítulo 9</font>\n",
    "\n",
    "## Download: http://github.com/dsacademybr\n",
    "\n",
    "## Mini-Projeto 2 - Análise Exploratória em Conjunto de Dados do Kaggle\n",
    "\n",
    "## Análise 3"
   ]
  },
  {
   "cell_type": "code",
   "execution_count": 22,
   "metadata": {},
   "outputs": [],
   "source": [
    "# Imports\n",
    "import os\n",
    "import subprocess\n",
    "import stat\n",
    "import numpy as np\n",
    "import pandas as pd\n",
    "import seaborn as sns\n",
    "import matplotlib.pyplot as plt\n",
    "from datetime import datetime\n",
    "sns.set(style = \"white\")\n",
    "%matplotlib inline"
   ]
  },
  {
   "cell_type": "code",
   "execution_count": 23,
   "metadata": {},
   "outputs": [],
   "source": [
    "# Dataset\n",
    "clean_data_path = \"dataset/autos/autos.csv\"\n",
    "df = pd.read_csv(clean_data_path,encoding = \"latin-1\")"
   ]
  },
  {
   "cell_type": "code",
   "execution_count": 5,
   "metadata": {},
   "outputs": [
    {
     "data": {
      "text/plain": [
       "Index(['dateCrawled', 'name', 'seller', 'offerType', 'price', 'abtest',\n",
       "       'vehicleType', 'yearOfRegistration', 'gearbox', 'powerPS', 'model',\n",
       "       'kilometer', 'monthOfRegistration', 'fuelType', 'brand',\n",
       "       'notRepairedDamage', 'dateCreated', 'postalCode', 'lastSeen',\n",
       "       'yearOfCreation', 'yearCrawled', 'monthOfCreation', 'monthCrawled',\n",
       "       'NoOfDaysOnline', 'NoOfHrsOnline', 'yearsOld', 'monthsOld'],\n",
       "      dtype='object')"
      ]
     },
     "execution_count": 5,
     "metadata": {},
     "output_type": "execute_result"
    }
   ],
   "source": [
    "df.columns"
   ]
  },
  {
   "cell_type": "code",
   "execution_count": 8,
   "metadata": {},
   "outputs": [
    {
     "data": {
      "text/plain": [
       "0         Gasoline\n",
       "1           Diesel\n",
       "2           Diesel\n",
       "3         Gasoline\n",
       "4           Diesel\n",
       "            ...   \n",
       "313682    Gasoline\n",
       "313683       Other\n",
       "313684    Gasoline\n",
       "313685      Diesel\n",
       "313686      Diesel\n",
       "Name: fuelType, Length: 313687, dtype: object"
      ]
     },
     "execution_count": 8,
     "metadata": {},
     "output_type": "execute_result"
    }
   ],
   "source": [
    "df['fuelType']"
   ]
  },
  {
   "cell_type": "code",
   "execution_count": 13,
   "metadata": {},
   "outputs": [
    {
     "data": {
      "text/html": [
       "<div>\n",
       "<style scoped>\n",
       "    .dataframe tbody tr th:only-of-type {\n",
       "        vertical-align: middle;\n",
       "    }\n",
       "\n",
       "    .dataframe tbody tr th {\n",
       "        vertical-align: top;\n",
       "    }\n",
       "\n",
       "    .dataframe thead th {\n",
       "        text-align: right;\n",
       "    }\n",
       "</style>\n",
       "<table border=\"1\" class=\"dataframe\">\n",
       "  <thead>\n",
       "    <tr style=\"text-align: right;\">\n",
       "      <th></th>\n",
       "      <th>price</th>\n",
       "      <th>yearOfRegistration</th>\n",
       "      <th>powerPS</th>\n",
       "      <th>kilometer</th>\n",
       "      <th>postalCode</th>\n",
       "      <th>yearOfCreation</th>\n",
       "      <th>yearCrawled</th>\n",
       "      <th>NoOfDaysOnline</th>\n",
       "      <th>NoOfHrsOnline</th>\n",
       "      <th>yearsOld</th>\n",
       "      <th>monthsOld</th>\n",
       "    </tr>\n",
       "  </thead>\n",
       "  <tbody>\n",
       "    <tr>\n",
       "      <th>count</th>\n",
       "      <td>313687.000000</td>\n",
       "      <td>313687.000000</td>\n",
       "      <td>313687.000000</td>\n",
       "      <td>313687.000000</td>\n",
       "      <td>313687.000000</td>\n",
       "      <td>313687.000000</td>\n",
       "      <td>313687.0</td>\n",
       "      <td>313687.000000</td>\n",
       "      <td>313687.000000</td>\n",
       "      <td>313687.000000</td>\n",
       "      <td>313687.000000</td>\n",
       "    </tr>\n",
       "    <tr>\n",
       "      <th>mean</th>\n",
       "      <td>3902.961863</td>\n",
       "      <td>2001.909231</td>\n",
       "      <td>109.564250</td>\n",
       "      <td>131435.778340</td>\n",
       "      <td>50349.563597</td>\n",
       "      <td>2015.999930</td>\n",
       "      <td>2016.0</td>\n",
       "      <td>8.543274</td>\n",
       "      <td>11.834207</td>\n",
       "      <td>14.090769</td>\n",
       "      <td>6.235187</td>\n",
       "    </tr>\n",
       "    <tr>\n",
       "      <th>std</th>\n",
       "      <td>4168.150636</td>\n",
       "      <td>6.803211</td>\n",
       "      <td>191.741685</td>\n",
       "      <td>34963.149957</td>\n",
       "      <td>25765.545682</td>\n",
       "      <td>0.008374</td>\n",
       "      <td>0.0</td>\n",
       "      <td>8.511917</td>\n",
       "      <td>6.504730</td>\n",
       "      <td>6.803211</td>\n",
       "      <td>3.454766</td>\n",
       "    </tr>\n",
       "    <tr>\n",
       "      <th>min</th>\n",
       "      <td>0.000000</td>\n",
       "      <td>1910.000000</td>\n",
       "      <td>0.000000</td>\n",
       "      <td>5000.000000</td>\n",
       "      <td>1067.000000</td>\n",
       "      <td>2015.000000</td>\n",
       "      <td>2016.0</td>\n",
       "      <td>0.000000</td>\n",
       "      <td>0.000000</td>\n",
       "      <td>0.000000</td>\n",
       "      <td>1.000000</td>\n",
       "    </tr>\n",
       "    <tr>\n",
       "      <th>25%</th>\n",
       "      <td>999.000000</td>\n",
       "      <td>1998.000000</td>\n",
       "      <td>68.000000</td>\n",
       "      <td>125000.000000</td>\n",
       "      <td>29640.000000</td>\n",
       "      <td>2016.000000</td>\n",
       "      <td>2016.0</td>\n",
       "      <td>2.000000</td>\n",
       "      <td>7.000000</td>\n",
       "      <td>10.000000</td>\n",
       "      <td>3.000000</td>\n",
       "    </tr>\n",
       "    <tr>\n",
       "      <th>50%</th>\n",
       "      <td>2490.000000</td>\n",
       "      <td>2002.000000</td>\n",
       "      <td>104.000000</td>\n",
       "      <td>150000.000000</td>\n",
       "      <td>49205.000000</td>\n",
       "      <td>2016.000000</td>\n",
       "      <td>2016.0</td>\n",
       "      <td>6.000000</td>\n",
       "      <td>12.000000</td>\n",
       "      <td>14.000000</td>\n",
       "      <td>6.000000</td>\n",
       "    </tr>\n",
       "    <tr>\n",
       "      <th>75%</th>\n",
       "      <td>5400.000000</td>\n",
       "      <td>2006.000000</td>\n",
       "      <td>140.000000</td>\n",
       "      <td>150000.000000</td>\n",
       "      <td>70794.000000</td>\n",
       "      <td>2016.000000</td>\n",
       "      <td>2016.0</td>\n",
       "      <td>13.000000</td>\n",
       "      <td>17.000000</td>\n",
       "      <td>18.000000</td>\n",
       "      <td>9.000000</td>\n",
       "    </tr>\n",
       "    <tr>\n",
       "      <th>max</th>\n",
       "      <td>28800.000000</td>\n",
       "      <td>2016.000000</td>\n",
       "      <td>20000.000000</td>\n",
       "      <td>150000.000000</td>\n",
       "      <td>99998.000000</td>\n",
       "      <td>2016.000000</td>\n",
       "      <td>2016.0</td>\n",
       "      <td>384.000000</td>\n",
       "      <td>23.000000</td>\n",
       "      <td>106.000000</td>\n",
       "      <td>11.000000</td>\n",
       "    </tr>\n",
       "  </tbody>\n",
       "</table>\n",
       "</div>"
      ],
      "text/plain": [
       "               price  yearOfRegistration        powerPS      kilometer  \\\n",
       "count  313687.000000       313687.000000  313687.000000  313687.000000   \n",
       "mean     3902.961863         2001.909231     109.564250  131435.778340   \n",
       "std      4168.150636            6.803211     191.741685   34963.149957   \n",
       "min         0.000000         1910.000000       0.000000    5000.000000   \n",
       "25%       999.000000         1998.000000      68.000000  125000.000000   \n",
       "50%      2490.000000         2002.000000     104.000000  150000.000000   \n",
       "75%      5400.000000         2006.000000     140.000000  150000.000000   \n",
       "max     28800.000000         2016.000000   20000.000000  150000.000000   \n",
       "\n",
       "          postalCode  yearOfCreation  yearCrawled  NoOfDaysOnline  \\\n",
       "count  313687.000000   313687.000000     313687.0   313687.000000   \n",
       "mean    50349.563597     2015.999930       2016.0        8.543274   \n",
       "std     25765.545682        0.008374          0.0        8.511917   \n",
       "min      1067.000000     2015.000000       2016.0        0.000000   \n",
       "25%     29640.000000     2016.000000       2016.0        2.000000   \n",
       "50%     49205.000000     2016.000000       2016.0        6.000000   \n",
       "75%     70794.000000     2016.000000       2016.0       13.000000   \n",
       "max     99998.000000     2016.000000       2016.0      384.000000   \n",
       "\n",
       "       NoOfHrsOnline       yearsOld      monthsOld  \n",
       "count  313687.000000  313687.000000  313687.000000  \n",
       "mean       11.834207      14.090769       6.235187  \n",
       "std         6.504730       6.803211       3.454766  \n",
       "min         0.000000       0.000000       1.000000  \n",
       "25%         7.000000      10.000000       3.000000  \n",
       "50%        12.000000      14.000000       6.000000  \n",
       "75%        17.000000      18.000000       9.000000  \n",
       "max        23.000000     106.000000      11.000000  "
      ]
     },
     "execution_count": 13,
     "metadata": {},
     "output_type": "execute_result"
    }
   ],
   "source": [
    "df.describe()"
   ]
  },
  {
   "cell_type": "markdown",
   "metadata": {},
   "source": [
    "## Preço médio do veículo por tipo de combustível e tipo de caixa de câmbio"
   ]
  },
  {
   "cell_type": "code",
   "execution_count": 18,
   "metadata": {},
   "outputs": [
    {
     "data": {
      "image/png": "[encoded data removed]",
      "text/plain": [
       "<Figure size 864x648 with 1 Axes>"
      ]
     },
     "metadata": {
      "needs_background": "light"
     },
     "output_type": "display_data"
    }
   ],
   "source": [
    "# Crie um Barplot com o Preço médio do veículo por tipo de combustível e tipo de caixa de câmbio\n",
    "fig2, ax = plt.subplots(figsize=(12,9))\n",
    "sns.barplot(x='fuelType', y='price', data=df, hue='gearbox')\n",
    "ax.set_title('Preço medio dos veiculos por tipo de combustivel e tipo de cambio')\n",
    "ax.set_xlabel('Tipo de combustivel')\n",
    "ax.set_ylabel('Preço medio')\n",
    "plt.show()"
   ]
  },
  {
   "cell_type": "code",
   "execution_count": 4,
   "metadata": {},
   "outputs": [],
   "source": [
    "# Salvando o plot\n",
    "fig.savefig(\"plots/Analise3/fueltype-vehicleType-price.png\")"
   ]
  },
  {
   "cell_type": "markdown",
   "metadata": {},
   "source": [
    "## Potência média de um veículo por tipo de veículo e tipo de caixa de câmbio"
   ]
  },
  {
   "cell_type": "code",
   "execution_count": 21,
   "metadata": {},
   "outputs": [
    {
     "data": {
      "image/png": "[encoded data removed]",
      "text/plain": [
       "<Figure size 864x648 with 1 Axes>"
      ]
     },
     "metadata": {
      "needs_background": "light"
     },
     "output_type": "display_data"
    }
   ],
   "source": [
    "# Crie um Barplot com a Potência média de um veículo por tipo de veículo e tipo de caixa de câmbio\n",
    "fig2, ax = plt.subplots(figsize=(12,9))\n",
    "sns.barplot(x='vehicleType', y='powerPS', data=df, palette='prism', hue='gearbox')\n",
    "ax.set_title('Potência média de um veículo por tipo de veículo e tipo de câmbio')\n",
    "ax.set_xlabel('Tipo de veiculo')\n",
    "ax.set_ylabel('Potência média')\n",
    "plt.show()"
   ]
  },
  {
   "cell_type": "code",
   "execution_count": 6,
   "metadata": {},
   "outputs": [],
   "source": [
    "# Salvando o plot\n",
    "fig.savefig(\"plots/Analise3/vehicletype-fueltype-power.png\")"
   ]
  },
  {
   "cell_type": "markdown",
   "metadata": {},
   "source": [
    "Conheça a Formação Cientista de Dados, um programa completo, 100% online e 100% em português, com 340 horas, mais de 1.200 aulas em vídeos e 26 projetos, que vão ajudá-lo a se tornar um dos profissionais mais cobiçados do mercado de análise de dados. Clique no link abaixo, faça sua inscrição, comece hoje mesmo e aumente sua empregabilidade:\n",
    "\n",
    "https://www.datascienceacademy.com.br/pages/formacao-cientista-de-dados"
   ]
  },
  {
   "cell_type": "markdown",
   "metadata": {
    "collapsed": true
   },
   "source": [
    "# Fim"
   ]
  },
  {
   "cell_type": "markdown",
   "metadata": {},
   "source": [
    "### Obrigado - Data Science Academy - <a href=\"http://facebook.com/dsacademybr\">facebook.com/dsacademybr</a>"
   ]
  }
 ],
 "metadata": {
  "anaconda-cloud": {},
  "kernelspec": {
   "display_name": "Python 3",
   "language": "python",
   "name": "python3"
  },
  "language_info": {
   "codemirror_mode": {
    "name": "ipython",
    "version": 3
   },
   "file_extension": ".py",
   "mimetype": "text/x-python",
   "name": "python",
   "nbconvert_exporter": "python",
   "pygments_lexer": "ipython3",
   "version": "3.7.6"
  }
 },
 "nbformat": 4,
 "nbformat_minor": 1
}
